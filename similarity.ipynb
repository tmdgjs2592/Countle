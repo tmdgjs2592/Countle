{
 "cells": [
  {
   "cell_type": "code",
   "execution_count": 2,
   "metadata": {},
   "outputs": [],
   "source": [
    "from gensim.models import KeyedVectors\n",
    "\n",
    "model_path = '/Users/tmdgj/Downloads/GoogleNews-vectors-negative300.bin/GoogleNews-vectors-negative300.bin'  # Update the path to your model file\n",
    "model = KeyedVectors.load_word2vec_format(model_path, binary=True)\n",
    "\n"
   ]
  },
  {
   "cell_type": "code",
   "execution_count": 3,
   "metadata": {},
   "outputs": [
    {
     "name": "stdout",
     "output_type": "stream",
     "text": [
      "Most similar country to 'taco' is 'Mexico' with a similarity score of 0.27448761463165283\n",
      "\n",
      "Most similar country to 'sushi' is 'Japan' with a similarity score of 0.28086230158805847\n",
      "\n",
      "Most similar country to 'pizza' is 'Italy' with a similarity score of 0.17121246457099915\n",
      "\n",
      "Most similar country to 'poutine' is 'Canada' with a similarity score of 0.36958742141723633\n",
      "\n",
      "Most similar country to 'baguette' is 'France' with a similarity score of 0.3087157607078552\n",
      "\n",
      "Most similar country to 'samba' is 'Brazil' with a similarity score of 0.35436058044433594\n",
      "\n",
      "Most similar country to 'kangaroo' is 'Australia' with a similarity score of 0.32052552700042725\n",
      "\n",
      "Most similar country to 'vodka' is 'Russia' with a similarity score of 0.3324565887451172\n",
      "\n",
      "Most similar country to 'curry' is 'Bangladesh' with a similarity score of 0.2263948619365692\n",
      "\n",
      "Most similar country to 'pharaoh' is 'Egypt' with a similarity score of 0.4306657910346985\n",
      "\n",
      "Most similar country to 'kimchi' is 'Japan' with a similarity score of 0.3494246006011963\n",
      "\n",
      "Most similar country to 'windmill' is 'Denmark' with a similarity score of 0.20664970576763153\n",
      "\n",
      "Most similar country to 'bullfighting' is 'Spain' with a similarity score of 0.39931827783584595\n",
      "\n",
      "Most similar country to 'pyramids' is 'Egypt' with a similarity score of 0.3956785798072815\n",
      "\n",
      "Most similar country to 'fado' is 'Portugal' with a similarity score of 0.47092726826667786\n",
      "\n"
     ]
    }
   ],
   "source": [
    "def calculate_similarity(word, country, model):\n",
    "    try:\n",
    "        similarity = model.similarity(word, country)\n",
    "        return similarity\n",
    "    except KeyError as e:\n",
    "        return None  # Return None if the word or country is not in the model's vocabulary\n",
    "\n",
    "countries = [\n",
    "    \"United States\", \"Canada\", \"Germany\", \"France\", \"Italy\",\n",
    "    \"Spain\", \"United Kingdom\", \"Australia\", \"Japan\", \"China\",\n",
    "    \"India\", \"Brazil\", \"Mexico\", \"Russia\", \"South Korea\",\n",
    "    \"Argentina\", \"South Africa\", \"Turkey\", \"Netherlands\", \"Saudi Arabia\",\n",
    "    \"Sweden\", \"Norway\", \"Denmark\", \"Finland\", \"Switzerland\",\n",
    "    \"Poland\", \"Belgium\", \"Austria\", \"Portugal\", \"Greece\",\n",
    "    \"New Zealand\", \"Ireland\", \"Singapore\", \"Malaysia\", \"Indonesia\",\n",
    "    \"Thailand\", \"Vietnam\", \"Philippines\", \"Egypt\", \"Nigeria\",\n",
    "    \"Kenya\", \"Israel\", \"United Arab Emirates\", \"Chile\", \"Colombia\",\n",
    "    \"Venezuela\", \"Cuba\", \"Peru\", \"Pakistan\", \"Bangladesh\"\n",
    "]\n",
    "\n",
    "words = [\n",
    "    \"taco\", \"sushi\", \"pizza\", \"poutine\", \"baguette\",\n",
    "    \"samba\", \"kangaroo\", \"vodka\", \"curry\", \"pharaoh\",\n",
    "    \"kimchi\", \"windmill\", \"bullfighting\", \"pyramids\", \"fado\"\n",
    "]\n",
    "\n",
    "for word in words:\n",
    "    most_similar_country = \"\"\n",
    "    highest_similarity = -1  # Start with a value that any similarity score will be higher than\n",
    "    for country in countries:\n",
    "        country = country\n",
    "        similarity_score = calculate_similarity(word, country, model)\n",
    "        if similarity_score is not None and similarity_score > highest_similarity:\n",
    "            most_similar_country = country\n",
    "            highest_similarity = similarity_score\n",
    "    print(f\"Most similar country to '{word}' is '{most_similar_country}' with a similarity score of {highest_similarity}\")\n",
    "    print(\"\")  \n",
    "\n",
    "\n"
   ]
  },
  {
   "cell_type": "code",
   "execution_count": 18,
   "metadata": {},
   "outputs": [
    {
     "name": "stdout",
     "output_type": "stream",
     "text": [
      "Most similar country to 'burger' is 'United_States' with a similarity score of 0.03061765432357788\n"
     ]
    }
   ],
   "source": [
    "word = \"burger\"\n",
    "country = \"United_States\"\n",
    "similarity_score= calculate_similarity(word, country, model)\n",
    "print(f\"Most similar country to '{word}' is '{country}' with a similarity score of {similarity_score}\")"
   ]
  },
  {
   "cell_type": "code",
   "execution_count": 44,
   "metadata": {},
   "outputs": [],
   "source": [
    "import numpy as np\n",
    "\n",
    "def get_average_word_vector(phrase, model):\n",
    "    words = phrase.split()  # Split the phrase into individual words\n",
    "    word_vectors = []\n",
    "    \n",
    "    for word in words:\n",
    "        try:\n",
    "            word_vectors.append(model[word])  # Get the vector for each word\n",
    "        except KeyError:\n",
    "            pass  # Ignore words that are not in the vocabulary\n",
    "\n",
    "    if not word_vectors:\n",
    "        return None  # If none of the words are in the model's vocabulary\n",
    "\n",
    "    # Calculate the average vector\n",
    "    return np.mean(word_vectors, axis=0)\n",
    "\n",
    "def calculate_similarity2(guess, target_word, model):\n",
    "    try:\n",
    "        # If the target_word is a multi-word phrase, calculate the average vector\n",
    "        target_vector = get_average_word_vector(target_word, model) if ' ' in target_word else model[target_word]\n",
    "        guess_vector = get_average_word_vector(guess, model) if ' ' in guess else model[guess]\n",
    "\n",
    "        if target_vector is not None and guess_vector is not None:\n",
    "            similarity = np.dot(target_vector, guess_vector) / (np.linalg.norm(target_vector) * np.linalg.norm(guess_vector))\n",
    "            return similarity\n",
    "        else:\n",
    "            return None  # If either word is not in the vocabulary\n",
    "    except KeyError:\n",
    "        return None  # Handle case where one or both w"
   ]
  },
  {
   "cell_type": "code",
   "execution_count": 60,
   "metadata": {},
   "outputs": [
    {
     "name": "stdout",
     "output_type": "stream",
     "text": [
      "Most similar country to 'pizza' is 'America' with a similarity score of 0.05481930822134018\n"
     ]
    }
   ],
   "source": [
    "word = \"pizza\"\n",
    "country = \"America\"\n",
    "similarity_score= calculate_similarity(word, country, model)\n",
    "print(f\"Most similar country to '{word}' is '{country}' with a similarity score of {similarity_score}\")"
   ]
  }
 ],
 "metadata": {
  "kernelspec": {
   "display_name": "base",
   "language": "python",
   "name": "python3"
  },
  "language_info": {
   "codemirror_mode": {
    "name": "ipython",
    "version": 3
   },
   "file_extension": ".py",
   "mimetype": "text/x-python",
   "name": "python",
   "nbconvert_exporter": "python",
   "pygments_lexer": "ipython3",
   "version": "3.11.7"
  },
  "orig_nbformat": 4
 },
 "nbformat": 4,
 "nbformat_minor": 2
}
