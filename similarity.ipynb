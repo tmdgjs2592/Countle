{
 "cells": [
  {
   "cell_type": "code",
   "execution_count": 2,
   "metadata": {},
   "outputs": [],
   "source": [
    "from gensim.models import KeyedVectors\n",
    "\n",
    "model_path = '/Users/johnlee/Downloads/GoogleNews-vectors-negative300.bin'  # Update the path to your model file\n",
    "model = KeyedVectors.load_word2vec_format(model_path, binary=True)\n"
   ]
  },
  {
   "cell_type": "code",
   "execution_count": 32,
   "metadata": {},
   "outputs": [
    {
     "name": "stdout",
     "output_type": "stream",
     "text": [
      "Similarity between 'jew' and 'germany': 0.36192935705184937\n"
     ]
    }
   ],
   "source": [
    "def calculate_similarity(word, country, model):\n",
    "    try:\n",
    "        similarity = model.similarity(word, country)\n",
    "        return similarity\n",
    "    except KeyError as e:\n",
    "        return f\"Word not found in the model vocabulary: {e}\"\n",
    "\n",
    "word = \"jew\"\n",
    "country = \"germany\"\n",
    "similarity_score = calculate_similarity(word, country, model)\n",
    "print(f\"Similarity between '{word}' and '{country}': {similarity_score}\")\n"
   ]
  }
 ],
 "metadata": {
  "kernelspec": {
   "display_name": "base",
   "language": "python",
   "name": "python3"
  },
  "language_info": {
   "codemirror_mode": {
    "name": "ipython",
    "version": 3
   },
   "file_extension": ".py",
   "mimetype": "text/x-python",
   "name": "python",
   "nbconvert_exporter": "python",
   "pygments_lexer": "ipython3",
   "version": "3.11.7"
  },
  "orig_nbformat": 4
 },
 "nbformat": 4,
 "nbformat_minor": 2
}
