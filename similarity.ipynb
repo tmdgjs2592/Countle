{
 "cells": [
  {
   "cell_type": "code",
   "execution_count": 2,
   "metadata": {},
   "outputs": [],
   "source": [
    "from gensim.models import KeyedVectors\n",
    "\n",
    "model_path = '/Users/johnlee/Downloads/GoogleNews-vectors-negative300.bin'  # Update the path to your model file\n",
    "model = KeyedVectors.load_word2vec_format(model_path, binary=True)\n",
    "\n",
    "\n"
   ]
  },
  {
   "cell_type": "code",
   "execution_count": 30,
   "metadata": {},
   "outputs": [
    {
     "name": "stdout",
     "output_type": "stream",
     "text": [
      "Most similar country to 'taco' is 'Mexico' with a similarity score of 0.27448761463165283\n",
      "\n",
      "Most similar country to 'sushi' is 'Japan' with a similarity score of 0.28086233139038086\n",
      "\n",
      "Most similar country to 'pizza' is 'Italy' with a similarity score of 0.17121246457099915\n",
      "\n",
      "Most similar country to 'poutine' is 'Canada' with a similarity score of 0.36958742141723633\n",
      "\n",
      "Most similar country to 'baguette' is 'France' with a similarity score of 0.3087157607078552\n",
      "\n",
      "Most similar country to 'samba' is 'Brazil' with a similarity score of 0.3543606102466583\n",
      "\n",
      "Most similar country to 'kangaroo' is 'Australia' with a similarity score of 0.32052552700042725\n",
      "\n",
      "Most similar country to 'vodka' is 'Russia' with a similarity score of 0.3324565887451172\n",
      "\n",
      "Most similar country to 'curry' is 'Bangladesh' with a similarity score of 0.2263948768377304\n",
      "\n",
      "Most similar country to 'pharaoh' is 'Egypt' with a similarity score of 0.4306657910346985\n",
      "\n",
      "Most similar country to 'kimchi' is 'Japan' with a similarity score of 0.3494246006011963\n",
      "\n",
      "Most similar country to 'windmill' is 'Denmark' with a similarity score of 0.20664972066879272\n",
      "\n",
      "Most similar country to 'bullfighting' is 'Spain' with a similarity score of 0.39931827783584595\n",
      "\n",
      "Most similar country to 'pyramids' is 'Egypt' with a similarity score of 0.3956785500049591\n",
      "\n",
      "Most similar country to 'fado' is 'Portugal' with a similarity score of 0.47092729806900024\n",
      "\n"
     ]
    }
   ],
   "source": [
    "def calculate_similarity(word, country, model):\n",
    "    try:\n",
    "        similarity = model.similarity(word, country)\n",
    "        return similarity\n",
    "    except KeyError as e:\n",
    "        return None  # Return None if the word or country is not in the model's vocabulary\n",
    "\n",
    "countries = [\n",
    "    \"United States\", \"Canada\", \"Germany\", \"France\", \"Italy\",\n",
    "    \"Spain\", \"United Kingdom\", \"Australia\", \"Japan\", \"China\",\n",
    "    \"India\", \"Brazil\", \"Mexico\", \"Russia\", \"South Korea\",\n",
    "    \"Argentina\", \"South Africa\", \"Turkey\", \"Netherlands\", \"Saudi Arabia\",\n",
    "    \"Sweden\", \"Norway\", \"Denmark\", \"Finland\", \"Switzerland\",\n",
    "    \"Poland\", \"Belgium\", \"Austria\", \"Portugal\", \"Greece\",\n",
    "    \"New Zealand\", \"Ireland\", \"Singapore\", \"Malaysia\", \"Indonesia\",\n",
    "    \"Thailand\", \"Vietnam\", \"Philippines\", \"Egypt\", \"Nigeria\",\n",
    "    \"Kenya\", \"Israel\", \"United Arab Emirates\", \"Chile\", \"Colombia\",\n",
    "    \"Venezuela\", \"Cuba\", \"Peru\", \"Pakistan\", \"Bangladesh\"\n",
    "]\n",
    "\n",
    "words = [\n",
    "    \"taco\", \"sushi\", \"pizza\", \"poutine\", \"baguette\",\n",
    "    \"samba\", \"kangaroo\", \"vodka\", \"curry\", \"pharaoh\",\n",
    "    \"kimchi\", \"windmill\", \"bullfighting\", \"pyramids\", \"fado\"\n",
    "]\n",
    "\n",
    "for word in words:\n",
    "    most_similar_country = \"\"\n",
    "    highest_similarity = -1  # Start with a value that any similarity score will be higher than\n",
    "    for country in countries:\n",
    "        country = country\n",
    "        similarity_score = calculate_similarity(word, country, model)\n",
    "        if similarity_score is not None and similarity_score > highest_similarity:\n",
    "            most_similar_country = country\n",
    "            highest_similarity = similarity_score\n",
    "    print(f\"Most similar country to '{word}' is '{most_similar_country}' with a similarity score of {highest_similarity}\")\n",
    "    print(\"\")  \n",
    "\n",
    "\n"
   ]
  },
  {
   "cell_type": "code",
   "execution_count": 31,
   "metadata": {},
   "outputs": [
    {
     "name": "stdout",
     "output_type": "stream",
     "text": [
      "Most similar country to 'kimchi' is 'Korea' with a similarity score of 0.4758823812007904\n"
     ]
    }
   ],
   "source": [
    "word = \"kimchi\"\n",
    "country = \"Korea\"\n",
    "similarity_score= calculate_similarity(word, country, model)\n",
    "print(f\"Most similar country to '{word}' is '{country}' with a similarity score of {similarity_score}\")"
   ]
  }
 ],
 "metadata": {
  "kernelspec": {
   "display_name": "base",
   "language": "python",
   "name": "python3"
  },
  "language_info": {
   "codemirror_mode": {
    "name": "ipython",
    "version": 3
   },
   "file_extension": ".py",
   "mimetype": "text/x-python",
   "name": "python",
   "nbconvert_exporter": "python",
   "pygments_lexer": "ipython3",
   "version": "3.11.7"
  },
  "orig_nbformat": 4
 },
 "nbformat": 4,
 "nbformat_minor": 2
}
